{
 "cells": [
  {
   "cell_type": "code",
   "execution_count": 1,
   "metadata": {},
   "outputs": [],
   "source": [
    "import os\n",
    "import pandas as pd\n",
    "import cv2\n",
    "import numpy as np\n",
    "from tqdm import tqdm "
   ]
  },
  {
   "cell_type": "code",
   "execution_count": 2,
   "metadata": {},
   "outputs": [],
   "source": [
    "asl_dataset_thresholded_train = '../data/raw/asl-dataset/asl-dataset/train/'\n",
    "asl_dataset_thresholded_val = '../data/raw/asl-dataset/asl-dataset/val/'\n",
    "\n",
    "asl_dataset_grayscaled_train = '../data/raw/asl-dataset-gray/asl-dataset-gray/train/'\n",
    "asl_dataset_grayscaled_val = '../data/raw/asl-dataset-gray/asl-dataset-gray/val/'\n"
   ]
  },
  {
   "cell_type": "code",
   "execution_count": 3,
   "metadata": {},
   "outputs": [],
   "source": [
    "def get_data(path):\n",
    "    image_paths = []\n",
    "    labels = []\n",
    "    \n",
    "    for label in os.listdir(path):\n",
    "        label_path = os.path.join(path, label) + '/'\n",
    "        if os.path.isdir(label_path):\n",
    "            for img_file in os.listdir(label_path):\n",
    "                image_paths.append(os.path.join(label_path, img_file))\n",
    "                labels.append(label)\n",
    "                \n",
    "    df = pd.DataFrame({\"image_path\": image_paths, \"label\": labels})\n",
    "    return df"
   ]
  },
  {
   "cell_type": "code",
   "execution_count": 4,
   "metadata": {},
   "outputs": [],
   "source": [
    "thresholded_train_df = get_data(asl_dataset_thresholded_train)\n",
    "thresholded_val_df = get_data(asl_dataset_thresholded_val)\n",
    "\n",
    "grayscaled_train_df = get_data(asl_dataset_grayscaled_train)\n",
    "grayscaled_val_df = get_data(asl_dataset_grayscaled_val)"
   ]
  },
  {
   "cell_type": "code",
   "execution_count": 5,
   "metadata": {},
   "outputs": [],
   "source": [
    "\n",
    "def process_images(df, img_size=32):\n",
    "    image_paths = df[\"image_path\"].values\n",
    "    labels = df[\"label\"].values\n",
    "\n",
    "    num_images = len(image_paths)\n",
    "    image_data = np.zeros((num_images, img_size * img_size), dtype=np.uint8)\n",
    "\n",
    "    for i, path in tqdm(enumerate(image_paths), total=num_images, desc=\"Processing Images\"):\n",
    "        img = cv2.imread(path, cv2.IMREAD_GRAYSCALE) \n",
    "        if img is not None:\n",
    "            img = cv2.resize(img, (img_size, img_size))  \n",
    "            image_data[i, :] = img.flatten()  \n",
    "\n",
    "    df_pixels = pd.DataFrame(image_data, columns=[f\"p{i}\" for i in range(img_size * img_size)])\n",
    "\n",
    "    df_pixels[\"label\"] = labels\n",
    "\n",
    "    return df_pixels\n"
   ]
  },
  {
   "cell_type": "markdown",
   "metadata": {},
   "source": [
    "**Image size 32**"
   ]
  },
  {
   "cell_type": "code",
   "execution_count": 17,
   "metadata": {},
   "outputs": [
    {
     "name": "stderr",
     "output_type": "stream",
     "text": [
      "Processing Images: 100%|██████████| 30050/30050 [00:06<00:00, 4547.28it/s]\n",
      "Processing Images: 100%|██████████| 7523/7523 [00:43<00:00, 172.76it/s]\n",
      "Processing Images: 100%|██████████| 22880/22880 [02:06<00:00, 181.02it/s]\n",
      "Processing Images: 100%|██████████| 4053/4053 [00:24<00:00, 166.52it/s]\n"
     ]
    }
   ],
   "source": [
    "thresholded_train_size32 = process_images(thresholded_train_df, img_size=32)\n",
    "thresholded_val_size32 = process_images(thresholded_val_df, img_size=32)\n",
    "\n",
    "grayscaled_train_size32 = process_images(grayscaled_train_df, img_size=32)\n",
    "grayscaled_val_size32 = process_images(grayscaled_val_df, img_size=32)\n"
   ]
  },
  {
   "cell_type": "code",
   "execution_count": 29,
   "metadata": {},
   "outputs": [
    {
     "data": {
      "text/html": [
       "<div>\n",
       "<style scoped>\n",
       "    .dataframe tbody tr th:only-of-type {\n",
       "        vertical-align: middle;\n",
       "    }\n",
       "\n",
       "    .dataframe tbody tr th {\n",
       "        vertical-align: top;\n",
       "    }\n",
       "\n",
       "    .dataframe thead th {\n",
       "        text-align: right;\n",
       "    }\n",
       "</style>\n",
       "<table border=\"1\" class=\"dataframe\">\n",
       "  <thead>\n",
       "    <tr style=\"text-align: right;\">\n",
       "      <th></th>\n",
       "      <th>p0</th>\n",
       "      <th>p1</th>\n",
       "      <th>p2</th>\n",
       "      <th>p3</th>\n",
       "      <th>p4</th>\n",
       "      <th>p5</th>\n",
       "      <th>p6</th>\n",
       "      <th>p7</th>\n",
       "      <th>p8</th>\n",
       "      <th>p9</th>\n",
       "      <th>...</th>\n",
       "      <th>p1015</th>\n",
       "      <th>p1016</th>\n",
       "      <th>p1017</th>\n",
       "      <th>p1018</th>\n",
       "      <th>p1019</th>\n",
       "      <th>p1020</th>\n",
       "      <th>p1021</th>\n",
       "      <th>p1022</th>\n",
       "      <th>p1023</th>\n",
       "      <th>label</th>\n",
       "    </tr>\n",
       "  </thead>\n",
       "  <tbody>\n",
       "    <tr>\n",
       "      <th>0</th>\n",
       "      <td>255</td>\n",
       "      <td>255</td>\n",
       "      <td>255</td>\n",
       "      <td>255</td>\n",
       "      <td>255</td>\n",
       "      <td>255</td>\n",
       "      <td>255</td>\n",
       "      <td>255</td>\n",
       "      <td>255</td>\n",
       "      <td>255</td>\n",
       "      <td>...</td>\n",
       "      <td>253</td>\n",
       "      <td>254</td>\n",
       "      <td>79</td>\n",
       "      <td>255</td>\n",
       "      <td>246</td>\n",
       "      <td>255</td>\n",
       "      <td>255</td>\n",
       "      <td>255</td>\n",
       "      <td>255</td>\n",
       "      <td>A</td>\n",
       "    </tr>\n",
       "    <tr>\n",
       "      <th>1</th>\n",
       "      <td>255</td>\n",
       "      <td>255</td>\n",
       "      <td>255</td>\n",
       "      <td>255</td>\n",
       "      <td>255</td>\n",
       "      <td>255</td>\n",
       "      <td>255</td>\n",
       "      <td>255</td>\n",
       "      <td>255</td>\n",
       "      <td>255</td>\n",
       "      <td>...</td>\n",
       "      <td>255</td>\n",
       "      <td>254</td>\n",
       "      <td>254</td>\n",
       "      <td>167</td>\n",
       "      <td>152</td>\n",
       "      <td>255</td>\n",
       "      <td>255</td>\n",
       "      <td>255</td>\n",
       "      <td>255</td>\n",
       "      <td>A</td>\n",
       "    </tr>\n",
       "    <tr>\n",
       "      <th>2</th>\n",
       "      <td>255</td>\n",
       "      <td>255</td>\n",
       "      <td>255</td>\n",
       "      <td>255</td>\n",
       "      <td>255</td>\n",
       "      <td>255</td>\n",
       "      <td>255</td>\n",
       "      <td>255</td>\n",
       "      <td>255</td>\n",
       "      <td>255</td>\n",
       "      <td>...</td>\n",
       "      <td>142</td>\n",
       "      <td>241</td>\n",
       "      <td>255</td>\n",
       "      <td>218</td>\n",
       "      <td>255</td>\n",
       "      <td>255</td>\n",
       "      <td>255</td>\n",
       "      <td>255</td>\n",
       "      <td>255</td>\n",
       "      <td>A</td>\n",
       "    </tr>\n",
       "    <tr>\n",
       "      <th>3</th>\n",
       "      <td>255</td>\n",
       "      <td>255</td>\n",
       "      <td>255</td>\n",
       "      <td>255</td>\n",
       "      <td>255</td>\n",
       "      <td>255</td>\n",
       "      <td>255</td>\n",
       "      <td>255</td>\n",
       "      <td>255</td>\n",
       "      <td>255</td>\n",
       "      <td>...</td>\n",
       "      <td>0</td>\n",
       "      <td>0</td>\n",
       "      <td>255</td>\n",
       "      <td>36</td>\n",
       "      <td>255</td>\n",
       "      <td>255</td>\n",
       "      <td>255</td>\n",
       "      <td>255</td>\n",
       "      <td>255</td>\n",
       "      <td>A</td>\n",
       "    </tr>\n",
       "    <tr>\n",
       "      <th>4</th>\n",
       "      <td>255</td>\n",
       "      <td>255</td>\n",
       "      <td>255</td>\n",
       "      <td>255</td>\n",
       "      <td>255</td>\n",
       "      <td>255</td>\n",
       "      <td>255</td>\n",
       "      <td>255</td>\n",
       "      <td>255</td>\n",
       "      <td>255</td>\n",
       "      <td>...</td>\n",
       "      <td>0</td>\n",
       "      <td>167</td>\n",
       "      <td>254</td>\n",
       "      <td>167</td>\n",
       "      <td>255</td>\n",
       "      <td>255</td>\n",
       "      <td>255</td>\n",
       "      <td>255</td>\n",
       "      <td>255</td>\n",
       "      <td>A</td>\n",
       "    </tr>\n",
       "  </tbody>\n",
       "</table>\n",
       "<p>5 rows × 1025 columns</p>\n",
       "</div>"
      ],
      "text/plain": [
       "    p0   p1   p2   p3   p4   p5   p6   p7   p8   p9  ...  p1015  p1016  p1017  \\\n",
       "0  255  255  255  255  255  255  255  255  255  255  ...    253    254     79   \n",
       "1  255  255  255  255  255  255  255  255  255  255  ...    255    254    254   \n",
       "2  255  255  255  255  255  255  255  255  255  255  ...    142    241    255   \n",
       "3  255  255  255  255  255  255  255  255  255  255  ...      0      0    255   \n",
       "4  255  255  255  255  255  255  255  255  255  255  ...      0    167    254   \n",
       "\n",
       "   p1018  p1019  p1020  p1021  p1022  p1023  label  \n",
       "0    255    246    255    255    255    255      A  \n",
       "1    167    152    255    255    255    255      A  \n",
       "2    218    255    255    255    255    255      A  \n",
       "3     36    255    255    255    255    255      A  \n",
       "4    167    255    255    255    255    255      A  \n",
       "\n",
       "[5 rows x 1025 columns]"
      ]
     },
     "execution_count": 29,
     "metadata": {},
     "output_type": "execute_result"
    }
   ],
   "source": [
    "thresholded_val_size32.head()"
   ]
  },
  {
   "cell_type": "code",
   "execution_count": null,
   "metadata": {},
   "outputs": [],
   "source": [
    "thresholded_train_size32.to_pickle(\"../data/processed/thresholded_train_size32.pkl\")\n",
    "thresholded_val_size32.to_pickle(\"../data/processed/thresholded_val_size32.pkl\")\n",
    "\n",
    "grayscaled_train_size32.to_pickle(\"../data/processed/grayscaled_train_size32.pkl\")\n",
    "grayscaled_val_size32.to_pickle(\"../data/processed/grayscaled_val_size32.pkl\")\n"
   ]
  },
  {
   "cell_type": "markdown",
   "metadata": {},
   "source": [
    "**Image size 64**"
   ]
  },
  {
   "cell_type": "code",
   "execution_count": 6,
   "metadata": {},
   "outputs": [
    {
     "name": "stderr",
     "output_type": "stream",
     "text": [
      "Processing Images: 100%|██████████| 30050/30050 [03:12<00:00, 156.14it/s]\n",
      "Processing Images: 100%|██████████| 7523/7523 [00:45<00:00, 166.73it/s]\n",
      "Processing Images: 100%|██████████| 22880/22880 [02:13<00:00, 170.98it/s]\n",
      "Processing Images: 100%|██████████| 4053/4053 [00:25<00:00, 159.21it/s]\n"
     ]
    }
   ],
   "source": [
    "thresholded_train_size64 = process_images(thresholded_train_df, img_size=64)\n",
    "thresholded_val_size64 = process_images(thresholded_val_df, img_size=64)\n",
    "\n",
    "grayscaled_train_size64 = process_images(grayscaled_train_df, img_size=64)\n",
    "grayscaled_val_size64 = process_images(grayscaled_val_df, img_size=64)\n"
   ]
  },
  {
   "cell_type": "code",
   "execution_count": 7,
   "metadata": {},
   "outputs": [],
   "source": [
    "thresholded_train_size64.to_pickle(\"../data/processed/thresholded_train_size64.pkl\")\n",
    "thresholded_val_size64.to_pickle(\"../data/processed/thresholded_val_size64.pkl\")\n",
    "\n",
    "grayscaled_train_size64.to_pickle(\"../data/processed/grayscaled_train_size64.pkl\")\n",
    "grayscaled_val_size64.to_pickle(\"../data/processed/grayscaled_val_size64.pkl\")"
   ]
  },
  {
   "cell_type": "code",
   "execution_count": null,
   "metadata": {},
   "outputs": [],
   "source": []
  }
 ],
 "metadata": {
  "kernelspec": {
   "display_name": "venv",
   "language": "python",
   "name": "python3"
  },
  "language_info": {
   "codemirror_mode": {
    "name": "ipython",
    "version": 3
   },
   "file_extension": ".py",
   "mimetype": "text/x-python",
   "name": "python",
   "nbconvert_exporter": "python",
   "pygments_lexer": "ipython3",
   "version": "3.12.2"
  }
 },
 "nbformat": 4,
 "nbformat_minor": 2
}
