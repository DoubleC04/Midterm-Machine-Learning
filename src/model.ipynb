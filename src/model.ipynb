{
 "cells": [
  {
   "cell_type": "code",
   "execution_count": 21,
   "metadata": {},
   "outputs": [],
   "source": [
    "import pandas as pd\n",
    "import joblib\n",
    "import time\n",
    "import warnings\n",
    "\n",
    "from sklearn.neighbors import KNeighborsClassifier\n",
    "from sklearn.linear_model import LogisticRegression\n",
    "from sklearn.naive_bayes import GaussianNB\n",
    "from sklearn.metrics import accuracy_score, precision_score, recall_score, confusion_matrix\n",
    "from sklearn.preprocessing import StandardScaler\n",
    "from sklearn.decomposition import PCA\n",
    "\n",
    "warnings.filterwarnings('ignore')"
   ]
  },
  {
   "cell_type": "code",
   "execution_count": 2,
   "metadata": {},
   "outputs": [],
   "source": [
    "thresholded_train_size32 = pd.read_pickle(\"../data/processed/thresholded_train_size32.pkl\")\n",
    "thresholded_val_size32 = pd.read_pickle(\"../data/processed/thresholded_val_size32.pkl\")\n",
    "\n",
    "grayscaled_train_size32 = pd.read_pickle(\"../data/processed/grayscaled_train_size32.pkl\")\n",
    "grayscaled_val_size32 = pd.read_pickle(\"../data/processed/grayscaled_val_size32.pkl\")"
   ]
  },
  {
   "cell_type": "code",
   "execution_count": 5,
   "metadata": {},
   "outputs": [],
   "source": [
    "X_train = grayscaled_train_size32.drop('label', axis=1)\n",
    "y_train = grayscaled_train_size32['label']\n",
    "\n",
    "X_test = grayscaled_val_size32.drop('label', axis=1)\n",
    "y_test = grayscaled_val_size32['label']"
   ]
  },
  {
   "cell_type": "code",
   "execution_count": 17,
   "metadata": {},
   "outputs": [],
   "source": [
    "scaler = StandardScaler()\n",
    "\n",
    "X_train_scaler = pd.DataFrame(scaler.fit_transform(X_train), columns=X_train.columns)\n",
    "X_test_scaler = pd.DataFrame(scaler.fit_transform(X_test), columns=X_test.columns)\n",
    "\n",
    "pca = PCA(0.95)\n",
    "\n",
    "X_scaler = pd.concat([X_train_scaler, X_test_scaler], axis=0)\n",
    "\n",
    "pca.fit(X_scaler)\n",
    "\n",
    "X_train_scaler_pca = pd.DataFrame(pca.transform(X_train_scaler))\n",
    "X_test_scaler_pca = pd.DataFrame(pca.transform(X_test_scaler))\n"
   ]
  },
  {
   "cell_type": "code",
   "execution_count": 18,
   "metadata": {},
   "outputs": [],
   "source": [
    "logR = LogisticRegression(multi_class='multinomial')\n",
    "nb = GaussianNB()\n",
    "knn = KNeighborsClassifier(n_neighbors=7)"
   ]
  },
  {
   "cell_type": "code",
   "execution_count": 26,
   "metadata": {},
   "outputs": [],
   "source": [
    "def train_model(model, X_train, y_train, X_test, y_test):\n",
    "    start_time = time.time()\n",
    "    model.fit(X_train, y_train)\n",
    "    end_time = time.time()\n",
    "    y_pred = model.predict(X_test)\n",
    "    print(\"Train time:\", end_time-start_time)\n",
    "    print(\"Accuracy:\", accuracy_score(y_test, y_pred))\n",
    "    print(\"Precision:\", precision_score(y_test, y_pred, average='weighted'))\n",
    "    print(\"Recall:\", recall_score(y_test, y_pred, average='weighted'))\n",
    "    print(f\"Confusion Matrix:\\n\", confusion_matrix(y_test, y_pred))"
   ]
  },
  {
   "cell_type": "code",
   "execution_count": 30,
   "metadata": {},
   "outputs": [
    {
     "name": "stdout",
     "output_type": "stream",
     "text": [
      "Train time: 1.4367256164550781\n",
      "Accuracy: 0.768073032321737\n",
      "Precision: 0.7706060596558123\n",
      "Recall: 0.768073032321737\n",
      "Confusion Matrix:\n",
      " [[112   0   1   4   3   2   1   0   6   1   0   2   2   0   1   3   0   2\n",
      "    0   0   1   0   9   4]\n",
      " [  1 139   0   7   8   1   1   0   1   2   1   0   0   2   0   0   0   2\n",
      "    3   0   2   2   2   0]\n",
      " [  2   3 144  10   0   1   3   0   0   1   0   0   0   4   0   0   0   2\n",
      "    3   0   0   0   0   0]\n",
      " [  1   4   6 188   5   0   0   7   0   6   1   1   1   4   0   0   0   1\n",
      "    4   2   0   0   4   2]\n",
      " [  6   2   3   5 163   2   0   0   1   8   1   3   1   0   0   5   0   5\n",
      "    3   2   0   2   2   0]\n",
      " [  2   2   2   4   8 142   5   0   0   3   1   0   1   0   1   2   2   0\n",
      "    0   2   2   1   6   2]\n",
      " [  2   1   4   0   0   0 104  16   0   5   0   0   3   0   6   2   6   4\n",
      "    0   0   0   0   1  11]\n",
      " [  1   0   2   0   0   0   7 137   0   0   0   0   0   2   0   0   3   0\n",
      "    0   1   1   0   0   0]\n",
      " [  0   0   0   2   3   0   0   0 135   2   0   1   2   5   0   1   1   0\n",
      "    5   0   1   0   0   3]\n",
      " [  0   4   0   2   7   1   4   0   0 142   1   0   1   0   1   0   0   2\n",
      "    1   1   2   0   3   0]\n",
      " [  0   3   0   1  10   1   0   0   0   1 126   0   3   2   0   1   0   4\n",
      "    0   2   3   1   0   0]\n",
      " [  1   4   2   0  17   1   1   1   2   0   1 116   4   5   0   0   0   5\n",
      "    0   0   2   0   0   1]\n",
      " [  5   4   1   0   1   1   3   1   1   0   3  12 119   1   1   3   2   2\n",
      "   10   5   0   0   9   2]\n",
      " [  0   0   8   2   3   0   0   0   3   1   1   6   1 104   0   0   1   1\n",
      "    3   0   0   2   0   0]\n",
      " [  3   0   0   0   0   2   1   1   0   3   0   0   1   0 127   0   0   2\n",
      "    0   0   0   0   0   0]\n",
      " [  0   0   4   3   9   1   2   0   1   0   1   1   6   3   3 124   0   1\n",
      "    1   1   0   0   1   0]\n",
      " [  1   2   0   1   2   6   0   2   4   2   0   1   0   0   1   1 116   0\n",
      "    1   5   5   0   3   1]\n",
      " [  2   0   0   1   9   1   0   2   0   4   3   1   3   1   0   4   0 120\n",
      "    4   0   1   0  13   1]\n",
      " [  5   0   2   0   0   1   5   1   2   9   0   2   6   1   0   1   1   1\n",
      "  133   3   0   1   2   2]\n",
      " [  0   0   0   5   2   0   1   1   2   3   2   0   0   0   0   0   6   0\n",
      "    6 134   3   1   0   1]\n",
      " [  5   1   5  12   2   0   0   0   0   2   0   2   4   0   1   2   0   0\n",
      "    0   5 103   8   2   0]\n",
      " [  1   7   0   4   0   0   0   0   0   2   1   2   0   0   0   0   0   0\n",
      "    0   2   6 123   0   4]\n",
      " [ 10   3   2   0   0   1   4   1   1   0   1   1   6   1   0   4   1   1\n",
      "    3   3   2   0 126   0]\n",
      " [  0   2   3   1   0   2   4   3   5   1   2   0   1   0   1   1   0   0\n",
      "    1   1   4   0   2 136]]\n"
     ]
    }
   ],
   "source": [
    "train_model(logR, X_train_scaler_pca, y_train, X_test_scaler_pca, y_test)"
   ]
  },
  {
   "cell_type": "code",
   "execution_count": 31,
   "metadata": {},
   "outputs": [
    {
     "name": "stdout",
     "output_type": "stream",
     "text": [
      "Train time: 0.031633615493774414\n",
      "Accuracy: 0.5938810757463607\n",
      "Precision: 0.6616229229198187\n",
      "Recall: 0.5938810757463607\n",
      "Confusion Matrix:\n",
      " [[106   1   0  11   8   0   3   0   0   0   0   1   2   1   3   0   0   0\n",
      "   12   0   6   0   0   0]\n",
      " [ 10 104   6   5  15   0   3   1   0   1   0  12   0   5   2   7   0   1\n",
      "    2   0   0   0   0   0]\n",
      " [ 11  14 106   3   0   0   3   0   0   1   0   0   4   6   5   3   0   0\n",
      "   14   2   1   0   0   0]\n",
      " [  4   3   0 114  27   5   0   0   0   5   1  44   0   0  11  16   2   2\n",
      "    0   0   0   0   3   0]\n",
      " [ 10   2   0   0 146   0   5   0   0   4   1  18   0   2  13   1   0   1\n",
      "    9   0   0   2   0   0]\n",
      " [  4  29   2   5   3 107   4   0   0   7   0  15   0   0   2   0   2   1\n",
      "    1   0   2   0   0   4]\n",
      " [  4   3   2   0   3   1  94  25   0   0   0   6   0   1  10   2   1   4\n",
      "    0   0   0   0   2   7]\n",
      " [  0   3   0   0   0   0   7 126   0   3   0   0   1   0  12   0   0   2\n",
      "    0   0   0   0   0   0]\n",
      " [  0   0   1   4  11   0  10   0  88   0   0  28   0   2  12   3   1   0\n",
      "    1   0   0   0   0   0]\n",
      " [  0   9   0   2  20   1   0   1   0  86   0  11   0   0   4   0   1   7\n",
      "   17   1  11   0   0   1]\n",
      " [  9   1   0   5  22   0   0   0   0   0  97   4   0   0   4   4   0   0\n",
      "    9   3   0   0   0   0]\n",
      " [  3   3   2   5  14   1   0   0   0   3   0 120   5   1   1   0   0   1\n",
      "    0   1   3   0   0   0]\n",
      " [ 15   3   1   6   5   1   4   1   7   2   0  39  84   0   3   2   0   1\n",
      "   10   0   0   0   0   2]\n",
      " [  1   0  12   5   1   0   0   0   0   2   0  32   0  65   9   7   0   0\n",
      "    2   0   0   0   0   0]\n",
      " [  0   3   0   0   0   0   3   0   0  17   1   1   0   0 109   0   0   2\n",
      "    3   0   0   0   0   1]\n",
      " [  6   0   3   1   0   0   5   5   0   0   0   2   0   3   6 123   0   1\n",
      "    2   2   3   0   0   0]\n",
      " [  1   4   0   0   6   3   1   4  20   0   0   2   2   1   2   5  75   1\n",
      "   17   3   0   2   1   4]\n",
      " [  3   2   0   0  21   1   2  12   0   4   0  18   3   2   4   1   1  83\n",
      "    8   0   0   0   5   0]\n",
      " [  7   1   3   9   7   0   5   0   4   2   0  23   6   2   3   0   2   1\n",
      "   95   2   1   1   1   3]\n",
      " [  0  11   1   0   2   0   1   0   0   6   0  15   0   1   6   1   1   3\n",
      "   19  97   3   0   0   0]\n",
      " [ 13   7   3   0   0   0   1   0   0   0   0  26   0   4   7   5   0   2\n",
      "   15   0  68   3   0   0]\n",
      " [  1   0   2   2   4   0   0   0   0   2   1   5   5   1   0   2   5   0\n",
      "   13   0   5 102   1   1]\n",
      " [  9   0   5   4   2   0   0   0   1   0   0   8   0   2   5   8   0   1\n",
      "   14   6   1   0 105   0]\n",
      " [ 14   1   3   3   1   4   5   3   5   3   0   0   0   0   4   2   3   0\n",
      "   10   1   0   0   1 107]]\n"
     ]
    }
   ],
   "source": [
    "train_model(nb, X_train_scaler_pca, y_train, X_test_scaler_pca, y_test)"
   ]
  },
  {
   "cell_type": "code",
   "execution_count": 32,
   "metadata": {},
   "outputs": [
    {
     "name": "stdout",
     "output_type": "stream",
     "text": [
      "Train time: 0.014775991439819336\n",
      "Accuracy: 0.9928448063163089\n",
      "Precision: 0.992896710680754\n",
      "Recall: 0.9928448063163089\n",
      "Confusion Matrix:\n",
      " [[154   0   0   0   0   0   0   0   0   0   0   0   0   0   0   0   0   0\n",
      "    0   0   0   0   0   0]\n",
      " [  0 174   0   0   0   0   0   0   0   0   0   0   0   0   0   0   0   0\n",
      "    0   0   0   0   0   0]\n",
      " [  0   0 173   0   0   0   0   0   0   0   0   0   0   0   0   0   0   0\n",
      "    0   0   0   0   0   0]\n",
      " [  0   0   0 236   0   0   0   0   0   0   0   0   0   1   0   0   0   0\n",
      "    0   0   0   0   0   0]\n",
      " [  1   0   0   0 208   0   0   0   0   0   0   2   1   0   0   0   0   0\n",
      "    0   2   0   0   0   0]\n",
      " [  0   0   0   0   0 188   0   0   0   0   0   0   0   0   0   0   0   0\n",
      "    0   0   0   0   0   0]\n",
      " [  0   0   0   0   0   0 164   1   0   0   0   0   0   0   0   0   0   0\n",
      "    0   0   0   0   0   0]\n",
      " [  0   0   0   0   0   0   0 154   0   0   0   0   0   0   0   0   0   0\n",
      "    0   0   0   0   0   0]\n",
      " [  0   0   0   0   0   0   0   0 161   0   0   0   0   0   0   0   0   0\n",
      "    0   0   0   0   0   0]\n",
      " [  0   0   0   0   2   0   0   0   0 169   0   0   0   0   0   0   0   0\n",
      "    0   0   0   0   0   1]\n",
      " [  0   0   0   0   0   0   0   0   0   0 158   0   0   0   0   0   0   0\n",
      "    0   0   0   0   0   0]\n",
      " [  0   0   0   0   1   0   0   0   0   0   0 160   0   0   0   0   0   2\n",
      "    0   0   0   0   0   0]\n",
      " [  0   0   0   0   0   0   0   0   0   0   0   1 183   0   0   0   1   0\n",
      "    0   0   1   0   0   0]\n",
      " [  0   0   0   0   0   0   0   0   0   0   0   0   0 136   0   0   0   0\n",
      "    0   0   0   0   0   0]\n",
      " [  0   0   0   0   0   0   0   0   0   0   0   0   0   0 140   0   0   0\n",
      "    0   0   0   0   0   0]\n",
      " [  0   0   0   0   0   0   0   0   0   0   0   0   0   0   2 160   0   0\n",
      "    0   0   0   0   0   0]\n",
      " [  0   0   0   0   0   0   0   0   0   0   0   0   0   0   0   0 153   0\n",
      "    0   1   0   0   0   0]\n",
      " [  0   0   0   0   0   0   0   0   0   0   0   0   0   0   0   0   0 170\n",
      "    0   0   0   0   0   0]\n",
      " [  0   0   0   0   0   0   0   0   0   0   0   0   0   0   0   0   0   0\n",
      "  178   0   0   0   0   0]\n",
      " [  1   0   1   0   0   0   0   0   0   0   0   0   0   0   0   0   0   0\n",
      "    0 165   0   0   0   0]\n",
      " [  0   0   0   0   0   0   0   0   0   0   0   0   0   0   0   0   0   0\n",
      "    0   3 151   0   0   0]\n",
      " [  0   0   0   0   0   0   0   0   0   0   0   0   0   0   0   0   0   0\n",
      "    0   0   2 150   0   0]\n",
      " [  0   0   0   0   0   0   0   0   0   0   0   0   0   1   0   0   0   0\n",
      "    0   0   0   0 170   0]\n",
      " [  0   0   0   0   0   1   0   0   0   0   0   0   0   0   0   0   0   0\n",
      "    0   0   0   0   0 169]]\n"
     ]
    }
   ],
   "source": [
    "train_model(knn, X_train_scaler_pca, y_train, X_test_scaler_pca, y_test)"
   ]
  },
  {
   "cell_type": "code",
   "execution_count": null,
   "metadata": {},
   "outputs": [],
   "source": []
  }
 ],
 "metadata": {
  "kernelspec": {
   "display_name": "venv",
   "language": "python",
   "name": "python3"
  },
  "language_info": {
   "codemirror_mode": {
    "name": "ipython",
    "version": 3
   },
   "file_extension": ".py",
   "mimetype": "text/x-python",
   "name": "python",
   "nbconvert_exporter": "python",
   "pygments_lexer": "ipython3",
   "version": "3.12.2"
  }
 },
 "nbformat": 4,
 "nbformat_minor": 2
}
